{
 "cells": [
  {
   "cell_type": "code",
   "execution_count": null,
   "metadata": {
    "collapsed": false
   },
   "outputs": [],
   "source": [
    "import tensorflow as tf \n",
    "import numpy as np \n",
    "\n",
    "tf.logging.set_verbosity(30)"
   ]
  },
  {
   "cell_type": "code",
   "execution_count": null,
   "metadata": {
    "collapsed": true
   },
   "outputs": [],
   "source": [
    "# -------------------------------------------------------------------------\n",
    "#  => Cluster definition\n",
    "# -------------------------------------------------------------------------\n",
    "\n",
    "cluster = tf.train.ClusterSpec({\n",
    "    \"worker\": [\n",
    "        \"test-tf-cluster-worker-0.marathon.l4lb.thisdcos.directory:2333\",\n",
    "        \"test-tf-cluster-worker-1.marathon.l4lb.thisdcos.directory:2333\",\n",
    "        \"test-tf-cluster-worker-2.marathon.l4lb.thisdcos.directory:2333\"\n",
    "    ],\n",
    "    \"ps\":[\n",
    "        \"test-tf-cluster-ps-0.marathon.l4lb.thisdcos.directory:2333\"\n",
    "    ]\n",
    "})\n",
    "\n",
    "test_tf_cluster = cluster.as_dict()"
   ]
  },
  {
   "cell_type": "code",
   "execution_count": null,
   "metadata": {
    "collapsed": false
   },
   "outputs": [],
   "source": [
    "test_tf_cluster"
   ]
  },
  {
   "cell_type": "code",
   "execution_count": null,
   "metadata": {
    "collapsed": true
   },
   "outputs": [],
   "source": [
    "### Problema con los flags de Tensorflow en Notebook -> Tienes que reiniciar para poder volver a re-ejecutar el codigo\n",
    "\n",
    "tf.app.flags.DEFINE_integer(\"numsamples\", \"1000\", \"Number of samples per server\") \n",
    "FLAGS = tf.app.flags.FLAGS "
   ]
  },
  {
   "cell_type": "code",
   "execution_count": null,
   "metadata": {
    "collapsed": false,
    "scrolled": true
   },
   "outputs": [],
   "source": [
    "print (\"Sample number per server: \" + str(FLAGS.numsamples) ) \n",
    "\n",
    "# This is the list containing the sumation of samples on any node \n",
    "c=[] \n",
    "\n",
    "def generate_sum(): \n",
    "    \n",
    "    # Points generation (x1, x2)\n",
    "    i = tf.constant( np.random.uniform(size=FLAGS.numsamples*2), shape=[FLAGS.numsamples,2])     \n",
    "    # Square distance of each point to origin (0,0)\n",
    "    distances = tf.reduce_sum(tf.pow(i,2), 1) \n",
    "    \n",
    "    # Testing summary: histogram of points' square distantes\n",
    "    tf.summary.histogram(\"Testing_histogram\", distances)    \n",
    "    \n",
    "    return (tf.reduce_sum(tf.cast(tf.greater_equal(tf.cast(1.0,tf.float64), distances),tf.int32))) \n",
    "\n",
    "\n",
    "with tf.device(\"/job:worker/task:0\"): \n",
    "    test1 = generate_sum() \n",
    "\n",
    "with tf.device(\"/job:worker/task:1\"): \n",
    "    test2 = generate_sum() \n",
    "    \n",
    "\n",
    "with tf.Session(\"grpc://\" + test_tf_cluster[\"worker\"][0]) as sess: \n",
    "       \n",
    "    test = tf.constant(1)    \n",
    "    tf.summary.scalar(\"Testing_constant\", test)    \n",
    "    \n",
    "    merged = tf.summary.merge_all()\n",
    "    \n",
    "    summary, result = sess.run([ merged,\n",
    "                                 tf.cast(test1 + test2, tf.float64)/FLAGS.numsamples*2.0  ]) \n",
    "    \n",
    "    # Create a summary writer, add the 'graph' to the event file.\n",
    "    writer = tf.summary.FileWriter(\"/tmp/tensorboard/test2\", sess.graph)   \n",
    "    writer.add_summary(summary, 1)\n",
    "    writer.flush()\n",
    "    \n",
    "# Reset the default graph\n",
    "tf.reset_default_graph()\n",
    "    "
   ]
  }
 ],
 "metadata": {
  "kernelspec": {
   "display_name": "Python 3",
   "language": "python",
   "name": "python3"
  },
  "language_info": {
   "codemirror_mode": {
    "name": "ipython",
    "version": 3
   },
   "file_extension": ".py",
   "mimetype": "text/x-python",
   "name": "python",
   "nbconvert_exporter": "python",
   "pygments_lexer": "ipython3",
   "version": "3.5.2"
  }
 },
 "nbformat": 4,
 "nbformat_minor": 2
}
