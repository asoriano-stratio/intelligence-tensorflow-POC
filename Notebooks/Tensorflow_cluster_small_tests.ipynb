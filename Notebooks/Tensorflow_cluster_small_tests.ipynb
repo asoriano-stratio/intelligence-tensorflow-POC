{
 "cells": [
  {
   "cell_type": "code",
   "execution_count": 6,
   "metadata": {
    "collapsed": false
   },
   "outputs": [],
   "source": [
    "import tensorflow as tf"
   ]
  },
  {
   "cell_type": "code",
   "execution_count": 10,
   "metadata": {
    "collapsed": false
   },
   "outputs": [],
   "source": [
    "tf.logging.set_verbosity(30)"
   ]
  },
  {
   "cell_type": "code",
   "execution_count": 2,
   "metadata": {
    "collapsed": true
   },
   "outputs": [],
   "source": [
    "# -------------------------------------------------------------------------\n",
    "#  => Cluster definition\n",
    "# -------------------------------------------------------------------------\n",
    "\n",
    "cluster = tf.train.ClusterSpec({\n",
    "    \"worker\": [\n",
    "        \"test-tf-cluster-worker-0.marathon.l4lb.thisdcos.directory:2333\",\n",
    "        \"test-tf-cluster-worker-1.marathon.l4lb.thisdcos.directory:2333\",\n",
    "        \"test-tf-cluster-worker-2.marathon.l4lb.thisdcos.directory:2333\"\n",
    "    ],\n",
    "    \"ps\":[\n",
    "        \"test-tf-cluster-ps-0.marathon.l4lb.thisdcos.directory:2333\",\n",
    "        \"test-tf-cluster-ps-1.marathon.l4lb.thisdcos.directory:2333\"\n",
    "    ]\n",
    "})\n",
    "\n",
    "test_tf_cluster = cluster.as_dict()"
   ]
  },
  {
   "cell_type": "code",
   "execution_count": null,
   "metadata": {
    "collapsed": false
   },
   "outputs": [],
   "source": [
    "with tf.Session(\"grpc://\" + test_tf_cluster[\"worker\"][0]) as sess:\n",
    "    t1 = tf.constant([[1.0, 2.0, 3.0],[3.0, 4.0, 5.0],[1.0, 2.0, 3.0]])\n",
    "    t2 = tf.constant([[1.0, 2.0, 3.0],[3.0, 4.0, 5.0],[1.0, 2.0, 3.0]])\n",
    "    t3 = t1*t2\n",
    "    result1 = sess.run(t3)\n",
    "    print(result1)"
   ]
  },
  {
   "cell_type": "code",
   "execution_count": null,
   "metadata": {
    "collapsed": false
   },
   "outputs": [],
   "source": [
    "with tf.Session(\"grpc://\" + test_tf_cluster[\"worker\"][1]) as sess:\n",
    "    t4 = t1+t2\n",
    "    result2 = sess.run(t4)\n",
    "    print(result2)"
   ]
  },
  {
   "cell_type": "code",
   "execution_count": null,
   "metadata": {
    "collapsed": false
   },
   "outputs": [],
   "source": [
    "with tf.Session(\"grpc://\" + test_tf_cluster[\"worker\"][2]) as sess:\n",
    "    resultFinal = sess.run(tf.matmul(result1,result2))\n",
    "    print(resultFinal)"
   ]
  },
  {
   "cell_type": "code",
   "execution_count": null,
   "metadata": {
    "collapsed": true
   },
   "outputs": [],
   "source": [
    "with tf.device(\"/job:worker/task:1\"):\n",
    "    c1 = tf.constant([[1.0, 2.0, 3.0]])"
   ]
  },
  {
   "cell_type": "code",
   "execution_count": null,
   "metadata": {
    "collapsed": false
   },
   "outputs": [],
   "source": [
    "with tf.Session(\"grpc://\" + test_tf_cluster[\"worker\"][0]) as sess:\n",
    "    print(sess.sess_str)\n",
    "    print(sess.graph.version)\n",
    "    resultFinal = sess.run(c1)\n",
    "    print(resultFinal)"
   ]
  },
  {
   "cell_type": "code",
   "execution_count": null,
   "metadata": {
    "collapsed": false
   },
   "outputs": [],
   "source": [
    "c1.device"
   ]
  },
  {
   "cell_type": "code",
   "execution_count": null,
   "metadata": {
    "collapsed": true
   },
   "outputs": [],
   "source": []
  }
 ],
 "metadata": {
  "kernelspec": {
   "display_name": "Python 3",
   "language": "python",
   "name": "python3"
  },
  "language_info": {
   "codemirror_mode": {
    "name": "ipython",
    "version": 3
   },
   "file_extension": ".py",
   "mimetype": "text/x-python",
   "name": "python",
   "nbconvert_exporter": "python",
   "pygments_lexer": "ipython3",
   "version": "3.5.2"
  }
 },
 "nbformat": 4,
 "nbformat_minor": 2
}
